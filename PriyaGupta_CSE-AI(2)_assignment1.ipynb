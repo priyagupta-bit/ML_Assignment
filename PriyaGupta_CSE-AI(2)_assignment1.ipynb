{
  "nbformat": 4,
  "nbformat_minor": 0,
  "metadata": {
    "colab": {
      "provenance": []
    },
    "kernelspec": {
      "name": "python3",
      "display_name": "Python 3"
    },
    "language_info": {
      "name": "python"
    }
  },
  "cells": [
    {
      "cell_type": "markdown",
      "source": [
        "#EDA"
      ],
      "metadata": {
        "id": "67ZNXN8OF79T"
      }
    },
    {
      "cell_type": "markdown",
      "source": [
        "Hi everyone, This is your first assignment for week 1...\n",
        "So in this assignment you have to perform EDA on the below dataset.\n",
        "The problem statements are given below.\n",
        "Just write a code for them..."
      ],
      "metadata": {
        "id": "IIfMYAslGDhk"
      }
    },
    {
      "cell_type": "code",
      "execution_count": 9,
      "metadata": {
        "colab": {
          "base_uri": "https://localhost:8080/"
        },
        "id": "MC89QfHwiMFp",
        "outputId": "995e259c-4e02-4c7d-c778-041b1a5b65a6"
      },
      "outputs": [
        {
          "output_type": "stream",
          "name": "stdout",
          "text": [
            "--2023-09-17 10:19:16--  https://www.kaggle.com/datasets/aestheteaman01/zomato-restaurants-in-delhi-ncr\n",
            "Resolving www.kaggle.com (www.kaggle.com)... 35.244.233.98\n",
            "Connecting to www.kaggle.com (www.kaggle.com)|35.244.233.98|:443... connected.\n",
            "HTTP request sent, awaiting response... 200 OK\n",
            "Length: unspecified [text/html]\n",
            "Saving to: ‘zomato-restaurants-in-delhi-ncr’\n",
            "\n",
            "zomato-restaurants-     [ <=>                ]  15.94K  --.-KB/s    in 0.009s  \n",
            "\n",
            "2023-09-17 10:19:16 (1.78 MB/s) - ‘zomato-restaurants-in-delhi-ncr’ saved [16322]\n",
            "\n"
          ]
        }
      ],
      "source": [
        "!wget \"https://www.kaggle.com/datasets/aestheteaman01/zomato-restaurants-in-delhi-ncr\"\n",
        "\n"
      ]
    },
    {
      "cell_type": "code",
      "source": [
        "import numpy as np\n",
        "import pandas as pd\n",
        "import matplotlib.pyplot as plt\n",
        "import seaborn as sns\n",
        "import warnings\n",
        "warnings.filterwarnings('ignore')\n",
        "restaurants=pd.read_csv('zomato-restaurants-in-delhi-ncr.csv')"
      ],
      "metadata": {
        "id": "Dls5ft3bl9uB"
      },
      "execution_count": 10,
      "outputs": []
    },
    {
      "cell_type": "code",
      "source": [],
      "metadata": {
        "id": "SCN8EDLOl7uP"
      },
      "execution_count": null,
      "outputs": []
    },
    {
      "cell_type": "markdown",
      "source": [
        "Q1.Are there any null values in the dataset?if yes then fill them.."
      ],
      "metadata": {
        "id": "HtvWYJz-GfqA"
      }
    },
    {
      "cell_type": "code",
      "source": [
        "restaurants.isnull().sum()"
      ],
      "metadata": {
        "id": "s-on8iKJGhbW",
        "colab": {
          "base_uri": "https://localhost:8080/"
        },
        "outputId": "bf51b684-d82e-4b05-a602-6b0ef5f3a105"
      },
      "execution_count": 13,
      "outputs": [
        {
          "output_type": "execute_result",
          "data": {
            "text/plain": [
              "Restaurant_Name            0\n",
              "Category                   0\n",
              "Pricing_for_2              0\n",
              "Locality                   0\n",
              "Dining_Rating              0\n",
              "Dining_Review_Count        0\n",
              "Delivery_Rating          402\n",
              "Delivery_Rating_Count      0\n",
              "Website                    0\n",
              "Address                    0\n",
              "Phone_No                   0\n",
              "Latitude                   0\n",
              "Longitude                  0\n",
              "Known_For2               405\n",
              "Known_For22              841\n",
              "dtype: int64"
            ]
          },
          "metadata": {},
          "execution_count": 13
        }
      ]
    },
    {
      "cell_type": "code",
      "source": [
        "restaurants['Delivery_Rating']=restaurants['Delivery_Rating'].fillna(value=4)\n",
        "restaurants['Known_For2']=restaurants['Known_For2'].fillna(value='Sizzling Brownies & Ice cream')\n",
        "restaurants['Known_For22']=restaurants['Known_For22'].fillna(value='Artistic Decor')"
      ],
      "metadata": {
        "id": "-EdL8qF1GhFy"
      },
      "execution_count": 24,
      "outputs": []
    },
    {
      "cell_type": "markdown",
      "source": [
        "Q2.Which restaurant is the best one having ratings more than 4.5 for delivery\n"
      ],
      "metadata": {
        "id": "Ws9ZK5OdGiKG"
      }
    },
    {
      "cell_type": "code",
      "source": [
        "a=restaurants['Restaurant_Name'][(restaurants['Delivery_Rating']>=4.5)].sort_values(ascending=False).head()\n",
        "a"
      ],
      "metadata": {
        "id": "VXN9t9ZsGrJz",
        "colab": {
          "base_uri": "https://localhost:8080/"
        },
        "outputId": "e7fc2ac6-afed-46ae-bb89-be273dd31f0e"
      },
      "execution_count": 46,
      "outputs": [
        {
          "output_type": "execute_result",
          "data": {
            "text/plain": [
              "1505                          Twist of Italy\n",
              "152     The Haven International Coffee House\n",
              "249                            Sibang Bakery\n",
              "7                          Natural Ice Cream\n",
              "829                                Krua Thai\n",
              "Name: Restaurant_Name, dtype: object"
            ]
          },
          "metadata": {},
          "execution_count": 46
        }
      ]
    },
    {
      "cell_type": "markdown",
      "source": [
        "\n",
        "Q3.What type of food is most preffered by the customers?"
      ],
      "metadata": {
        "id": "6zt-dhyBGrkf"
      }
    },
    {
      "cell_type": "code",
      "source": [
        "b=restaurants['Category'].value_counts().head()\n",
        "b"
      ],
      "metadata": {
        "id": "BkffosE6Gtza",
        "colab": {
          "base_uri": "https://localhost:8080/"
        },
        "outputId": "97dfe650-53ae-4b53-9fc3-15fe96f01e3f"
      },
      "execution_count": 41,
      "outputs": [
        {
          "output_type": "execute_result",
          "data": {
            "text/plain": [
              "North Indian                      88\n",
              "North Indian, Chinese             39\n",
              "North Indian, Mughlai             37\n",
              "Pizza, Fast Food                  19\n",
              "North Indian, Chinese, Mughlai    17\n",
              "Name: Category, dtype: int64"
            ]
          },
          "metadata": {},
          "execution_count": 41
        }
      ]
    },
    {
      "cell_type": "code",
      "source": [],
      "metadata": {
        "id": "MDLra2gLGtoW"
      },
      "execution_count": null,
      "outputs": []
    },
    {
      "cell_type": "markdown",
      "source": [
        "Q4.How many people prefer delivery rather than dining ?"
      ],
      "metadata": {
        "id": "h3foQEmEGvxQ"
      }
    },
    {
      "cell_type": "code",
      "source": [
        "a=restaurants['Delivery_Rating_Count'].sum()\n",
        "b=restaurants['Dining_Review_Count'].sum()\n",
        "print(a)\n",
        "print(b)\n",
        "print(a-b)"
      ],
      "metadata": {
        "id": "1Ph57fW1Gx5m",
        "colab": {
          "base_uri": "https://localhost:8080/"
        },
        "outputId": "c0f4f5b7-e460-47a2-dec6-5a0910d3a023"
      },
      "execution_count": 42,
      "outputs": [
        {
          "output_type": "stream",
          "name": "stdout",
          "text": [
            "5953067\n",
            "1418640\n",
            "4534427\n"
          ]
        }
      ]
    },
    {
      "cell_type": "code",
      "source": [],
      "metadata": {
        "id": "bpZjm6WRGxv5"
      },
      "execution_count": null,
      "outputs": []
    },
    {
      "cell_type": "markdown",
      "source": [
        "Q5.Which restaurant is the best one having ratings more than 4.5 for dining?"
      ],
      "metadata": {
        "id": "q6oUmSnmGynu"
      }
    },
    {
      "cell_type": "code",
      "source": [
        "restaurants['Restaurant_Name'][(restaurants['Dining_Rating']>=4.5)].sort_values(ascending=False).head()"
      ],
      "metadata": {
        "id": "VBoWONZkE5-t",
        "colab": {
          "base_uri": "https://localhost:8080/"
        },
        "outputId": "4fd3533c-76cd-47a3-8aa3-8c2565049771"
      },
      "execution_count": 30,
      "outputs": [
        {
          "output_type": "execute_result",
          "data": {
            "text/plain": [
              "123              Ziu\n",
              "15       Yum Yum Cha\n",
              "68           You Mee\n",
              "70     Wenger's Deli\n",
              "81        Wafflesome\n",
              "Name: Restaurant_Name, dtype: object"
            ]
          },
          "metadata": {},
          "execution_count": 30
        }
      ]
    },
    {
      "cell_type": "code",
      "source": [],
      "metadata": {
        "id": "jT6YqVFtHAmm"
      },
      "execution_count": null,
      "outputs": []
    },
    {
      "cell_type": "markdown",
      "source": [
        "Q6.Compare different delivery rating counts of different restaurants.\n",
        "Also tell that which restaurants has got the highest rating counts.\n",
        "Do this by creating a barplot"
      ],
      "metadata": {
        "id": "S0xc-qANHHoj"
      }
    },
    {
      "cell_type": "code",
      "source": [
        "restaurants.sort_values('Delivery_Rating_Count', ascending=False, inplace=True)\n",
        "restaurants['Restaurant_Name'].head()"
      ],
      "metadata": {
        "id": "fbQ26HqYIGfC",
        "colab": {
          "base_uri": "https://localhost:8080/"
        },
        "outputId": "5e1b466d-8689-4d11-8f1d-98d16a5d88e1"
      },
      "execution_count": 22,
      "outputs": [
        {
          "output_type": "execute_result",
          "data": {
            "text/plain": [
              "136                      Punjabi Angithi\n",
              "1211                            Singla's\n",
              "583               Pandit Ji Parantha Hut\n",
              "912     Shri Radhe Krishna Chole Bhature\n",
              "526                   Om Sweets & Snacks\n",
              "Name: Restaurant_Name, dtype: object"
            ]
          },
          "metadata": {},
          "execution_count": 22
        }
      ]
    },
    {
      "cell_type": "code",
      "source": [
        "a=restaurants['Restaurant_Name'].head()\n",
        "plt.figure(figsize=(15,5))\n",
        "sns.barplot(x=a, y='Delivery_Rating_Count', data=restaurants)\n",
        "plt.show()"
      ],
      "metadata": {
        "id": "L8JiWyFIIPes",
        "colab": {
          "base_uri": "https://localhost:8080/",
          "height": 414
        },
        "outputId": "4ef611b3-7274-4de6-a617-9fcf329c9859"
      },
      "execution_count": 43,
      "outputs": [
        {
          "output_type": "display_data",
          "data": {
            "text/plain": [
              "<Figure size 1500x500 with 1 Axes>"
            ],
            "image/png": "[encoded data removed]"
          },
          "metadata": {}
        }
      ]
    }
  ]
}